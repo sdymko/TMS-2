{
 "cells": [
  {
   "cell_type": "code",
   "execution_count": 38,
   "metadata": {},
   "outputs": [
    {
     "data": {
      "text/latex": [
       "$\\displaystyle \\left( a_{11}, \\  a_{12}, \\  a_{13}, \\  a_{21}, \\  a_{22}, \\  a_{23}, \\  a_{31}, \\  a_{32}, \\  a_{33}, \\  \\gamma, \\  \\theta, \\  \\alpha\\right)$"
      ],
      "text/plain": [
       "(a11, a12, a13, a21, a22, a23, a31, a32, a33, gamma, theta, alpha)"
      ]
     },
     "execution_count": 38,
     "metadata": {},
     "output_type": "execute_result"
    }
   ],
   "source": [
    "from sympy.physics.vector import init_vprinting\n",
    "init_vprinting(use_latex='mathjax', pretty_print=False)\n",
    "from sympy.physics.mechanics import dynamicsymbols\n",
    "\n",
    "a11, a12, a13, a21, a22, a23, a31, a32, a33, gama, theta, alpha = dynamicsymbols('a11 a12 a13 a21 a22 a23 a31 a32 a33 gamma theta alpha')\n",
    "a11, a12, a13, a21, a22, a23, a31, a32, a33, gama, theta, alpha"
   ]
  },
  {
   "cell_type": "code",
   "execution_count": 40,
   "metadata": {},
   "outputs": [
    {
     "data": {
      "text/latex": [
       "$\\displaystyle \\left( \\left[\\begin{matrix}a_{11}\\\\a_{21}\\\\a_{31}\\end{matrix}\\right], \\  \\left[\\begin{matrix}a_{12}\\\\a_{22}\\\\a_{32}\\end{matrix}\\right], \\  \\left[\\begin{matrix}a_{13}\\\\a_{23}\\\\a_{33}\\end{matrix}\\right]\\right)$"
      ],
      "text/plain": [
       "(Matrix([\n",
       "[a11],\n",
       "[a21],\n",
       "[a31]]), Matrix([\n",
       "[a12],\n",
       "[a22],\n",
       "[a32]]), Matrix([\n",
       "[a13],\n",
       "[a23],\n",
       "[a33]]))"
      ]
     },
     "execution_count": 40,
     "metadata": {},
     "output_type": "execute_result"
    }
   ],
   "source": [
    "import sympy as sp\n",
    "import numpy as np\n",
    "\n",
    "n = sp.Matrix([a11, a21, a31])\n",
    "t = sp.Matrix([a12, a22, a32])\n",
    "b = sp.Matrix([a13, a23, a33])\n",
    "\n",
    "n, t, b"
   ]
  },
  {
   "cell_type": "code",
   "execution_count": 53,
   "metadata": {},
   "outputs": [
    {
     "data": {
      "text/latex": [
       "$\\displaystyle A^{1}_{2}$"
      ],
      "text/plain": [
       "A_2^1"
      ]
     },
     "execution_count": 53,
     "metadata": {},
     "output_type": "execute_result"
    }
   ],
   "source": [
    "Agm = dynamicsymbols('A_2^1')\n",
    "Agm"
   ]
  },
  {
   "cell_type": "code",
   "execution_count": 85,
   "metadata": {},
   "outputs": [
    {
     "data": {
      "text/latex": [
       "$\\displaystyle \\left( \\left[\\begin{matrix}a_{11}\\\\\\operatorname{cos}\\left(\\gamma\\right)\\\\a_{31}\\end{matrix}\\right], \\  \\left[\\begin{matrix}a_{11}\\\\a_{21}\\\\a_{31}\\end{matrix}\\right]\\right)$"
      ],
      "text/plain": [
       "(Matrix([\n",
       "[       a11],\n",
       "[cos(gamma)],\n",
       "[       a31]]), Matrix([\n",
       "[a11],\n",
       "[a21],\n",
       "[a31]]))"
      ]
     },
     "execution_count": 85,
     "metadata": {},
     "output_type": "execute_result"
    }
   ],
   "source": [
    "q_ = n.subs({a21:sp.cos(gama)})\n",
    "q_, n"
   ]
  },
  {
   "cell_type": "code",
   "execution_count": 4,
   "metadata": {},
   "outputs": [
    {
     "data": {
      "text/latex": [
       "$\\displaystyle \\left[\\begin{matrix}\\frac{\\left(\\left(a_{11} a_{22} - a_{12} a_{21}\\right) \\left(a_{11} a_{33} - a_{13} a_{31}\\right) - \\left(a_{11} a_{23} - a_{13} a_{21}\\right) \\left(a_{11} a_{32} - a_{12} a_{31}\\right)\\right) a_{11} a_{22} - \\left(\\left(a_{11} a_{22} - a_{12} a_{21}\\right) a_{13} - \\left(a_{11} a_{23} - a_{13} a_{21}\\right) a_{12}\\right) \\left(- \\left(a_{11} a_{22} - a_{12} a_{21}\\right) a_{31} + \\left(a_{11} a_{32} - a_{12} a_{31}\\right) a_{21}\\right)}{\\left(\\left(a_{11} a_{22} - a_{12} a_{21}\\right) \\left(a_{11} a_{33} - a_{13} a_{31}\\right) - \\left(a_{11} a_{23} - a_{13} a_{21}\\right) \\left(a_{11} a_{32} - a_{12} a_{31}\\right)\\right) \\left(a_{11} a_{22} - a_{12} a_{21}\\right) a_{11}} & \\frac{- \\left(\\left(a_{11} a_{22} - a_{12} a_{21}\\right) \\left(a_{11} a_{33} - a_{13} a_{31}\\right) - \\left(a_{11} a_{23} - a_{13} a_{21}\\right) \\left(a_{11} a_{32} - a_{12} a_{31}\\right)\\right) a_{11} a_{12} + \\left(\\left(a_{11} a_{22} - a_{12} a_{21}\\right) a_{13} - \\left(a_{11} a_{23} - a_{13} a_{21}\\right) a_{12}\\right) \\left(a_{11} a_{32} - a_{12} a_{31}\\right) a_{11}}{\\left(\\left(a_{11} a_{22} - a_{12} a_{21}\\right) \\left(a_{11} a_{33} - a_{13} a_{31}\\right) - \\left(a_{11} a_{23} - a_{13} a_{21}\\right) \\left(a_{11} a_{32} - a_{12} a_{31}\\right)\\right) \\left(a_{11} a_{22} - a_{12} a_{21}\\right) a_{11}} & - \\frac{\\left(a_{11} a_{22} - a_{12} a_{21}\\right) a_{13} - \\left(a_{11} a_{23} - a_{13} a_{21}\\right) a_{12}}{\\left(a_{11} a_{22} - a_{12} a_{21}\\right) \\left(a_{11} a_{33} - a_{13} a_{31}\\right) - \\left(a_{11} a_{23} - a_{13} a_{21}\\right) \\left(a_{11} a_{32} - a_{12} a_{31}\\right)}\\\\\\frac{- \\left(\\left(a_{11} a_{22} - a_{12} a_{21}\\right) \\left(a_{11} a_{33} - a_{13} a_{31}\\right) - \\left(a_{11} a_{23} - a_{13} a_{21}\\right) \\left(a_{11} a_{32} - a_{12} a_{31}\\right)\\right) a_{21} - \\left(- \\left(a_{11} a_{22} - a_{12} a_{21}\\right) a_{31} + \\left(a_{11} a_{32} - a_{12} a_{31}\\right) a_{21}\\right) \\left(a_{11} a_{23} - a_{13} a_{21}\\right)}{\\left(\\left(a_{11} a_{22} - a_{12} a_{21}\\right) \\left(a_{11} a_{33} - a_{13} a_{31}\\right) - \\left(a_{11} a_{23} - a_{13} a_{21}\\right) \\left(a_{11} a_{32} - a_{12} a_{31}\\right)\\right) \\left(a_{11} a_{22} - a_{12} a_{21}\\right)} & \\frac{\\left(\\left(a_{11} a_{22} - a_{12} a_{21}\\right) \\left(a_{11} a_{33} - a_{13} a_{31}\\right) - \\left(a_{11} a_{23} - a_{13} a_{21}\\right) \\left(a_{11} a_{32} - a_{12} a_{31}\\right)\\right) a_{11} + \\left(a_{11} a_{23} - a_{13} a_{21}\\right) \\left(a_{11} a_{32} - a_{12} a_{31}\\right) a_{11}}{\\left(\\left(a_{11} a_{22} - a_{12} a_{21}\\right) \\left(a_{11} a_{33} - a_{13} a_{31}\\right) - \\left(a_{11} a_{23} - a_{13} a_{21}\\right) \\left(a_{11} a_{32} - a_{12} a_{31}\\right)\\right) \\left(a_{11} a_{22} - a_{12} a_{21}\\right)} & - \\frac{\\left(a_{11} a_{23} - a_{13} a_{21}\\right) a_{11}}{\\left(a_{11} a_{22} - a_{12} a_{21}\\right) \\left(a_{11} a_{33} - a_{13} a_{31}\\right) - \\left(a_{11} a_{23} - a_{13} a_{21}\\right) \\left(a_{11} a_{32} - a_{12} a_{31}\\right)}\\\\\\frac{- \\left(a_{11} a_{22} - a_{12} a_{21}\\right) a_{31} + \\left(a_{11} a_{32} - a_{12} a_{31}\\right) a_{21}}{\\left(a_{11} a_{22} - a_{12} a_{21}\\right) \\left(a_{11} a_{33} - a_{13} a_{31}\\right) - \\left(a_{11} a_{23} - a_{13} a_{21}\\right) \\left(a_{11} a_{32} - a_{12} a_{31}\\right)} & - \\frac{\\left(a_{11} a_{32} - a_{12} a_{31}\\right) a_{11}}{\\left(a_{11} a_{22} - a_{12} a_{21}\\right) \\left(a_{11} a_{33} - a_{13} a_{31}\\right) - \\left(a_{11} a_{23} - a_{13} a_{21}\\right) \\left(a_{11} a_{32} - a_{12} a_{31}\\right)} & \\frac{\\left(a_{11} a_{22} - a_{12} a_{21}\\right) a_{11}}{\\left(a_{11} a_{22} - a_{12} a_{21}\\right) \\left(a_{11} a_{33} - a_{13} a_{31}\\right) - \\left(a_{11} a_{23} - a_{13} a_{21}\\right) \\left(a_{11} a_{32} - a_{12} a_{31}\\right)}\\end{matrix}\\right]$"
      ],
      "text/plain": [
       "Matrix([\n",
       "[(((a11*a22 - a12*a21)*(a11*a33 - a13*a31) - (a11*a23 - a13*a21)*(a11*a32 - a12*a31))*a11*a22 - ((a11*a22 - a12*a21)*a13 - (a11*a23 - a13*a21)*a12)*(-(a11*a22 - a12*a21)*a31 + (a11*a32 - a12*a31)*a21))/(((a11*a22 - a12*a21)*(a11*a33 - a13*a31) - (a11*a23 - a13*a21)*(a11*a32 - a12*a31))*(a11*a22 - a12*a21)*a11), (-((a11*a22 - a12*a21)*(a11*a33 - a13*a31) - (a11*a23 - a13*a21)*(a11*a32 - a12*a31))*a11*a12 + ((a11*a22 - a12*a21)*a13 - (a11*a23 - a13*a21)*a12)*(a11*a32 - a12*a31)*a11)/(((a11*a22 - a12*a21)*(a11*a33 - a13*a31) - (a11*a23 - a13*a21)*(a11*a32 - a12*a31))*(a11*a22 - a12*a21)*a11), -((a11*a22 - a12*a21)*a13 - (a11*a23 - a13*a21)*a12)/((a11*a22 - a12*a21)*(a11*a33 - a13*a31) - (a11*a23 - a13*a21)*(a11*a32 - a12*a31))],\n",
       "[                                       (-((a11*a22 - a12*a21)*(a11*a33 - a13*a31) - (a11*a23 - a13*a21)*(a11*a32 - a12*a31))*a21 - (-(a11*a22 - a12*a21)*a31 + (a11*a32 - a12*a31)*a21)*(a11*a23 - a13*a21))/(((a11*a22 - a12*a21)*(a11*a33 - a13*a31) - (a11*a23 - a13*a21)*(a11*a32 - a12*a31))*(a11*a22 - a12*a21)),                                          (((a11*a22 - a12*a21)*(a11*a33 - a13*a31) - (a11*a23 - a13*a21)*(a11*a32 - a12*a31))*a11 + (a11*a23 - a13*a21)*(a11*a32 - a12*a31)*a11)/(((a11*a22 - a12*a21)*(a11*a33 - a13*a31) - (a11*a23 - a13*a21)*(a11*a32 - a12*a31))*(a11*a22 - a12*a21)),                             -(a11*a23 - a13*a21)*a11/((a11*a22 - a12*a21)*(a11*a33 - a13*a31) - (a11*a23 - a13*a21)*(a11*a32 - a12*a31))],\n",
       "[                                                                                                                                                                              (-(a11*a22 - a12*a21)*a31 + (a11*a32 - a12*a31)*a21)/((a11*a22 - a12*a21)*(a11*a33 - a13*a31) - (a11*a23 - a13*a21)*(a11*a32 - a12*a31)),                                                                                                                                                                               -(a11*a32 - a12*a31)*a11/((a11*a22 - a12*a21)*(a11*a33 - a13*a31) - (a11*a23 - a13*a21)*(a11*a32 - a12*a31)),                              (a11*a22 - a12*a21)*a11/((a11*a22 - a12*a21)*(a11*a33 - a13*a31) - (a11*a23 - a13*a21)*(a11*a32 - a12*a31))]])"
      ]
     },
     "execution_count": 4,
     "metadata": {},
     "output_type": "execute_result"
    }
   ],
   "source": [
    "A**-1"
   ]
  },
  {
   "cell_type": "code",
   "execution_count": 82,
   "metadata": {},
   "outputs": [
    {
     "data": {
      "text/latex": [
       "$\\displaystyle \\sqrt{\\left|{\\operatorname{sin}\\left(\\gamma\\right)}\\right|^{2} + \\left|{\\operatorname{cos}\\left(\\gamma\\right)}\\right|^{2}}$"
      ],
      "text/plain": [
       "sqrt(Abs(sin(gamma))**2 + Abs(cos(gamma))**2)"
      ]
     },
     "execution_count": 82,
     "metadata": {},
     "output_type": "execute_result"
    }
   ],
   "source": [
    "n1 = sp.Matrix([sp.cos(gama), sp.sin(gama), 0])\n",
    "b1 = sp.Matrix([-sp.sin(gama), sp.cos(gama), 0])\n",
    "t1 = sp.Matrix([0, 0, 1])\n",
    "n1.dot(b1)\n",
    "b1.norm()"
   ]
  },
  {
   "cell_type": "code",
   "execution_count": 19,
   "metadata": {},
   "outputs": [
    {
     "data": {
      "text/latex": [
       "$\\displaystyle \\left[\\begin{matrix}\\operatorname{cos}\\left(\\theta\\right) & - \\operatorname{sin}\\left(\\theta\\right) \\operatorname{cos}\\left(\\alpha\\right) & \\operatorname{sin}\\left(\\alpha\\right) \\operatorname{sin}\\left(\\theta\\right) & a \\operatorname{cos}\\left(\\theta\\right)\\\\\\operatorname{sin}\\left(\\theta\\right) & \\operatorname{cos}\\left(\\alpha\\right) \\operatorname{cos}\\left(\\theta\\right) & - \\operatorname{sin}\\left(\\alpha\\right) \\operatorname{cos}\\left(\\theta\\right) & a \\operatorname{sin}\\left(\\theta\\right)\\\\0 & \\operatorname{sin}\\left(\\alpha\\right) & \\operatorname{cos}\\left(\\alpha\\right) & d\\\\0 & 0 & 0 & 1\\end{matrix}\\right]$"
      ],
      "text/plain": [
       "Matrix([\n",
       "[cos(theta), -sin(theta)*cos(alpha),  sin(alpha)*sin(theta), a*cos(theta)],\n",
       "[sin(theta),  cos(alpha)*cos(theta), -sin(alpha)*cos(theta), a*sin(theta)],\n",
       "[         0,             sin(alpha),             cos(alpha),            d],\n",
       "[         0,                      0,                      0,            1]])"
      ]
     },
     "execution_count": 19,
     "metadata": {},
     "output_type": "execute_result"
    }
   ],
   "source": [
    "theta1, theta2, l1, l2, theta, alpha, a, d = dynamicsymbols('theta1 theta2 l1 l2 theta alpha a d')\n",
    "theta1, theta2, l1, l2, theta, alpha, a, d \n",
    "rot = sp.Matrix([[sp.cos(theta), -sp.sin(theta)*sp.cos(alpha), sp.sin(theta)*sp.sin(alpha)],\n",
    "                 [sp.sin(theta), sp.cos(theta)*sp.cos(alpha), -sp.cos(theta)*sp.sin(alpha)],\n",
    "                 [0, sp.sin(alpha), sp.cos(alpha)]])\n",
    "\n",
    "trans = sp.Matrix([a*sp.cos(theta),a*sp.sin(theta),d])\n",
    "\n",
    "last_row = sp.Matrix([[0, 0, 0, 1]])\n",
    "\n",
    "m = sp.Matrix.vstack(sp.Matrix.hstack(rot, trans), last_row)\n",
    "m"
   ]
  }
 ],
 "metadata": {
  "kernelspec": {
   "display_name": "Python 3",
   "language": "python",
   "name": "python3"
  },
  "language_info": {
   "codemirror_mode": {
    "name": "ipython",
    "version": 3
   },
   "file_extension": ".py",
   "mimetype": "text/x-python",
   "name": "python",
   "nbconvert_exporter": "python",
   "pygments_lexer": "ipython3",
   "version": "3.7.4"
  }
 },
 "nbformat": 4,
 "nbformat_minor": 4
}
