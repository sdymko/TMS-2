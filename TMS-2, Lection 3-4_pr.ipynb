{
 "cells": [
  {
   "cell_type": "code",
   "execution_count": 23,
   "metadata": {},
   "outputs": [
    {
     "data": {
      "text/latex": [
       "$\\displaystyle \\left( a_{11}, \\  a_{12}, \\  a_{13}, \\  a_{21}, \\  a_{22}, \\  a_{23}, \\  a_{31}, \\  a_{32}, \\  a_{33}, \\  \\gamma, \\  \\theta, \\  \\alpha, \\  \\beta\\right)$"
      ],
      "text/plain": [
       "(a11, a12, a13, a21, a22, a23, a31, a32, a33, gamma, theta, alpha, beta)"
      ]
     },
     "execution_count": 23,
     "metadata": {},
     "output_type": "execute_result"
    }
   ],
   "source": [
    "from sympy.physics.vector import init_vprinting\n",
    "init_vprinting(use_latex='mathjax', pretty_print=False)\n",
    "from sympy.physics.mechanics import dynamicsymbols\n",
    "\n",
    "a11, a12, a13, a21, a22, a23, a31, a32, a33, gama, theta, alpha, beta = dynamicsymbols('a11 a12 a13 a21 a22 a23 a31 a32 a33 gamma theta alpha beta')\n",
    "a11, a12, a13, a21, a22, a23, a31, a32, a33, gama, theta, alpha, beta"
   ]
  },
  {
   "cell_type": "code",
   "execution_count": 2,
   "metadata": {},
   "outputs": [
    {
     "data": {
      "text/latex": [
       "$\\displaystyle \\left( \\left[\\begin{matrix}a_{11}\\\\a_{21}\\\\a_{31}\\end{matrix}\\right], \\  \\left[\\begin{matrix}a_{12}\\\\a_{22}\\\\a_{32}\\end{matrix}\\right], \\  \\left[\\begin{matrix}a_{13}\\\\a_{23}\\\\a_{33}\\end{matrix}\\right]\\right)$"
      ],
      "text/plain": [
       "(Matrix([\n",
       "[a11],\n",
       "[a21],\n",
       "[a31]]), Matrix([\n",
       "[a12],\n",
       "[a22],\n",
       "[a32]]), Matrix([\n",
       "[a13],\n",
       "[a23],\n",
       "[a33]]))"
      ]
     },
     "execution_count": 2,
     "metadata": {},
     "output_type": "execute_result"
    }
   ],
   "source": [
    "import sympy as sp\n",
    "import numpy as np\n",
    "\n",
    "n = sp.Matrix([a11, a21, a31])\n",
    "t = sp.Matrix([a12, a22, a32])\n",
    "b = sp.Matrix([a13, a23, a33])\n",
    "\n",
    "n, t, b"
   ]
  },
  {
   "cell_type": "code",
   "execution_count": 3,
   "metadata": {},
   "outputs": [
    {
     "data": {
      "text/latex": [
       "$\\displaystyle \\left[\\begin{matrix}a_{11} & a_{12} & a_{13}\\\\a_{21} & a_{22} & a_{23}\\\\a_{31} & a_{32} & a_{33}\\end{matrix}\\right]$"
      ],
      "text/plain": [
       "Matrix([\n",
       "[a11, a12, a13],\n",
       "[a21, a22, a23],\n",
       "[a31, a32, a33]])"
      ]
     },
     "execution_count": 3,
     "metadata": {},
     "output_type": "execute_result"
    }
   ],
   "source": [
    "A = sp.Matrix.hstack(n, t, b)\n",
    "A"
   ]
  },
  {
   "cell_type": "code",
   "execution_count": 4,
   "metadata": {},
   "outputs": [
    {
     "data": {
      "text/latex": [
       "$\\displaystyle \\left( \\left[\\begin{matrix}1\\\\0\\\\0\\end{matrix}\\right], \\  \\left[\\begin{matrix}0\\\\1\\\\0\\end{matrix}\\right], \\  \\left[\\begin{matrix}0\\\\0\\\\1\\end{matrix}\\right]\\right)$"
      ],
      "text/plain": [
       "(Matrix([\n",
       "[1],\n",
       "[0],\n",
       "[0]]), Matrix([\n",
       "[0],\n",
       "[1],\n",
       "[0]]), Matrix([\n",
       "[0],\n",
       "[0],\n",
       "[1]]))"
      ]
     },
     "execution_count": 4,
     "metadata": {},
     "output_type": "execute_result"
    }
   ],
   "source": [
    "n1 = sp.Matrix([1, 0, 0])\n",
    "t1 = sp.Matrix([0, 1, 0])\n",
    "b1 = sp.Matrix([0, 0, 1])\n",
    "\n",
    "n1, t1, b1"
   ]
  },
  {
   "cell_type": "code",
   "execution_count": 5,
   "metadata": {},
   "outputs": [
    {
     "data": {
      "text/latex": [
       "$\\displaystyle \\left[\\begin{matrix}1 & 0 & 0\\\\0 & 1 & 0\\\\0 & 0 & 1\\end{matrix}\\right]$"
      ],
      "text/plain": [
       "Matrix([\n",
       "[1, 0, 0],\n",
       "[0, 1, 0],\n",
       "[0, 0, 1]])"
      ]
     },
     "execution_count": 5,
     "metadata": {},
     "output_type": "execute_result"
    }
   ],
   "source": [
    "A1 = sp.Matrix.hstack(n1, t1, b1)\n",
    "A1"
   ]
  },
  {
   "cell_type": "code",
   "execution_count": 9,
   "metadata": {},
   "outputs": [
    {
     "data": {
      "text/latex": [
       "$\\displaystyle \\left[\\begin{matrix}\\frac{\\left(\\left(a_{11} a_{22} - a_{12} a_{21}\\right) \\left(a_{11} a_{33} - a_{13} a_{31}\\right) - \\left(a_{11} a_{23} - a_{13} a_{21}\\right) \\left(a_{11} a_{32} - a_{12} a_{31}\\right)\\right) a_{11} a_{22} - \\left(\\left(a_{11} a_{22} - a_{12} a_{21}\\right) a_{13} - \\left(a_{11} a_{23} - a_{13} a_{21}\\right) a_{12}\\right) \\left(- \\left(a_{11} a_{22} - a_{12} a_{21}\\right) a_{31} + \\left(a_{11} a_{32} - a_{12} a_{31}\\right) a_{21}\\right)}{\\left(\\left(a_{11} a_{22} - a_{12} a_{21}\\right) \\left(a_{11} a_{33} - a_{13} a_{31}\\right) - \\left(a_{11} a_{23} - a_{13} a_{21}\\right) \\left(a_{11} a_{32} - a_{12} a_{31}\\right)\\right) \\left(a_{11} a_{22} - a_{12} a_{21}\\right) a_{11}} & \\frac{- \\left(\\left(a_{11} a_{22} - a_{12} a_{21}\\right) \\left(a_{11} a_{33} - a_{13} a_{31}\\right) - \\left(a_{11} a_{23} - a_{13} a_{21}\\right) \\left(a_{11} a_{32} - a_{12} a_{31}\\right)\\right) a_{11} a_{12} + \\left(\\left(a_{11} a_{22} - a_{12} a_{21}\\right) a_{13} - \\left(a_{11} a_{23} - a_{13} a_{21}\\right) a_{12}\\right) \\left(a_{11} a_{32} - a_{12} a_{31}\\right) a_{11}}{\\left(\\left(a_{11} a_{22} - a_{12} a_{21}\\right) \\left(a_{11} a_{33} - a_{13} a_{31}\\right) - \\left(a_{11} a_{23} - a_{13} a_{21}\\right) \\left(a_{11} a_{32} - a_{12} a_{31}\\right)\\right) \\left(a_{11} a_{22} - a_{12} a_{21}\\right) a_{11}} & - \\frac{\\left(a_{11} a_{22} - a_{12} a_{21}\\right) a_{13} - \\left(a_{11} a_{23} - a_{13} a_{21}\\right) a_{12}}{\\left(a_{11} a_{22} - a_{12} a_{21}\\right) \\left(a_{11} a_{33} - a_{13} a_{31}\\right) - \\left(a_{11} a_{23} - a_{13} a_{21}\\right) \\left(a_{11} a_{32} - a_{12} a_{31}\\right)}\\\\\\frac{- \\left(\\left(a_{11} a_{22} - a_{12} a_{21}\\right) \\left(a_{11} a_{33} - a_{13} a_{31}\\right) - \\left(a_{11} a_{23} - a_{13} a_{21}\\right) \\left(a_{11} a_{32} - a_{12} a_{31}\\right)\\right) a_{21} - \\left(- \\left(a_{11} a_{22} - a_{12} a_{21}\\right) a_{31} + \\left(a_{11} a_{32} - a_{12} a_{31}\\right) a_{21}\\right) \\left(a_{11} a_{23} - a_{13} a_{21}\\right)}{\\left(\\left(a_{11} a_{22} - a_{12} a_{21}\\right) \\left(a_{11} a_{33} - a_{13} a_{31}\\right) - \\left(a_{11} a_{23} - a_{13} a_{21}\\right) \\left(a_{11} a_{32} - a_{12} a_{31}\\right)\\right) \\left(a_{11} a_{22} - a_{12} a_{21}\\right)} & \\frac{\\left(\\left(a_{11} a_{22} - a_{12} a_{21}\\right) \\left(a_{11} a_{33} - a_{13} a_{31}\\right) - \\left(a_{11} a_{23} - a_{13} a_{21}\\right) \\left(a_{11} a_{32} - a_{12} a_{31}\\right)\\right) a_{11} + \\left(a_{11} a_{23} - a_{13} a_{21}\\right) \\left(a_{11} a_{32} - a_{12} a_{31}\\right) a_{11}}{\\left(\\left(a_{11} a_{22} - a_{12} a_{21}\\right) \\left(a_{11} a_{33} - a_{13} a_{31}\\right) - \\left(a_{11} a_{23} - a_{13} a_{21}\\right) \\left(a_{11} a_{32} - a_{12} a_{31}\\right)\\right) \\left(a_{11} a_{22} - a_{12} a_{21}\\right)} & - \\frac{\\left(a_{11} a_{23} - a_{13} a_{21}\\right) a_{11}}{\\left(a_{11} a_{22} - a_{12} a_{21}\\right) \\left(a_{11} a_{33} - a_{13} a_{31}\\right) - \\left(a_{11} a_{23} - a_{13} a_{21}\\right) \\left(a_{11} a_{32} - a_{12} a_{31}\\right)}\\\\\\frac{- \\left(a_{11} a_{22} - a_{12} a_{21}\\right) a_{31} + \\left(a_{11} a_{32} - a_{12} a_{31}\\right) a_{21}}{\\left(a_{11} a_{22} - a_{12} a_{21}\\right) \\left(a_{11} a_{33} - a_{13} a_{31}\\right) - \\left(a_{11} a_{23} - a_{13} a_{21}\\right) \\left(a_{11} a_{32} - a_{12} a_{31}\\right)} & - \\frac{\\left(a_{11} a_{32} - a_{12} a_{31}\\right) a_{11}}{\\left(a_{11} a_{22} - a_{12} a_{21}\\right) \\left(a_{11} a_{33} - a_{13} a_{31}\\right) - \\left(a_{11} a_{23} - a_{13} a_{21}\\right) \\left(a_{11} a_{32} - a_{12} a_{31}\\right)} & \\frac{\\left(a_{11} a_{22} - a_{12} a_{21}\\right) a_{11}}{\\left(a_{11} a_{22} - a_{12} a_{21}\\right) \\left(a_{11} a_{33} - a_{13} a_{31}\\right) - \\left(a_{11} a_{23} - a_{13} a_{21}\\right) \\left(a_{11} a_{32} - a_{12} a_{31}\\right)}\\end{matrix}\\right]$"
      ],
      "text/plain": [
       "Matrix([\n",
       "[(((a11*a22 - a12*a21)*(a11*a33 - a13*a31) - (a11*a23 - a13*a21)*(a11*a32 - a12*a31))*a11*a22 - ((a11*a22 - a12*a21)*a13 - (a11*a23 - a13*a21)*a12)*(-(a11*a22 - a12*a21)*a31 + (a11*a32 - a12*a31)*a21))/(((a11*a22 - a12*a21)*(a11*a33 - a13*a31) - (a11*a23 - a13*a21)*(a11*a32 - a12*a31))*(a11*a22 - a12*a21)*a11), (-((a11*a22 - a12*a21)*(a11*a33 - a13*a31) - (a11*a23 - a13*a21)*(a11*a32 - a12*a31))*a11*a12 + ((a11*a22 - a12*a21)*a13 - (a11*a23 - a13*a21)*a12)*(a11*a32 - a12*a31)*a11)/(((a11*a22 - a12*a21)*(a11*a33 - a13*a31) - (a11*a23 - a13*a21)*(a11*a32 - a12*a31))*(a11*a22 - a12*a21)*a11), -((a11*a22 - a12*a21)*a13 - (a11*a23 - a13*a21)*a12)/((a11*a22 - a12*a21)*(a11*a33 - a13*a31) - (a11*a23 - a13*a21)*(a11*a32 - a12*a31))],\n",
       "[                                       (-((a11*a22 - a12*a21)*(a11*a33 - a13*a31) - (a11*a23 - a13*a21)*(a11*a32 - a12*a31))*a21 - (-(a11*a22 - a12*a21)*a31 + (a11*a32 - a12*a31)*a21)*(a11*a23 - a13*a21))/(((a11*a22 - a12*a21)*(a11*a33 - a13*a31) - (a11*a23 - a13*a21)*(a11*a32 - a12*a31))*(a11*a22 - a12*a21)),                                          (((a11*a22 - a12*a21)*(a11*a33 - a13*a31) - (a11*a23 - a13*a21)*(a11*a32 - a12*a31))*a11 + (a11*a23 - a13*a21)*(a11*a32 - a12*a31)*a11)/(((a11*a22 - a12*a21)*(a11*a33 - a13*a31) - (a11*a23 - a13*a21)*(a11*a32 - a12*a31))*(a11*a22 - a12*a21)),                             -(a11*a23 - a13*a21)*a11/((a11*a22 - a12*a21)*(a11*a33 - a13*a31) - (a11*a23 - a13*a21)*(a11*a32 - a12*a31))],\n",
       "[                                                                                                                                                                              (-(a11*a22 - a12*a21)*a31 + (a11*a32 - a12*a31)*a21)/((a11*a22 - a12*a21)*(a11*a33 - a13*a31) - (a11*a23 - a13*a21)*(a11*a32 - a12*a31)),                                                                                                                                                                               -(a11*a32 - a12*a31)*a11/((a11*a22 - a12*a21)*(a11*a33 - a13*a31) - (a11*a23 - a13*a21)*(a11*a32 - a12*a31)),                              (a11*a22 - a12*a21)*a11/((a11*a22 - a12*a21)*(a11*a33 - a13*a31) - (a11*a23 - a13*a21)*(a11*a32 - a12*a31))]])"
      ]
     },
     "execution_count": 9,
     "metadata": {},
     "output_type": "execute_result"
    }
   ],
   "source": [
    "A**-1"
   ]
  },
  {
   "cell_type": "code",
   "execution_count": 10,
   "metadata": {},
   "outputs": [
    {
     "data": {
      "text/latex": [
       "$\\displaystyle \\left[\\begin{matrix}a_{11} & a_{21} & a_{31}\\\\a_{12} & a_{22} & a_{32}\\\\a_{13} & a_{23} & a_{33}\\end{matrix}\\right]$"
      ],
      "text/plain": [
       "Matrix([\n",
       "[a11, a21, a31],\n",
       "[a12, a22, a32],\n",
       "[a13, a23, a33]])"
      ]
     },
     "execution_count": 10,
     "metadata": {},
     "output_type": "execute_result"
    }
   ],
   "source": [
    "A.T"
   ]
  },
  {
   "cell_type": "code",
   "execution_count": 8,
   "metadata": {},
   "outputs": [
    {
     "data": {
      "text/plain": [
       "True"
      ]
     },
     "execution_count": 8,
     "metadata": {},
     "output_type": "execute_result"
    }
   ],
   "source": [
    "A1**-1 == A1.T"
   ]
  },
  {
   "cell_type": "code",
   "execution_count": 13,
   "metadata": {},
   "outputs": [
    {
     "data": {
      "text/latex": [
       "$\\displaystyle 1$"
      ],
      "text/plain": [
       "1"
      ]
     },
     "execution_count": 13,
     "metadata": {},
     "output_type": "execute_result"
    }
   ],
   "source": [
    "n1.norm()\n"
   ]
  },
  {
   "cell_type": "code",
   "execution_count": null,
   "metadata": {},
   "outputs": [],
   "source": [
    "Agm = dynamicsymbols('A_2^1')\n",
    "Agm"
   ]
  },
  {
   "cell_type": "code",
   "execution_count": 14,
   "metadata": {},
   "outputs": [
    {
     "data": {
      "text/latex": [
       "$\\displaystyle \\left( \\left[\\begin{matrix}\\operatorname{cos}\\left(\\gamma\\right) & - \\operatorname{sin}\\left(\\gamma\\right) & 0\\\\\\operatorname{sin}\\left(\\gamma\\right) & \\operatorname{cos}\\left(\\gamma\\right) & 0\\\\0 & 0 & 1\\end{matrix}\\right], \\  \\left[\\begin{matrix}a_{11} & a_{12} & a_{13}\\\\a_{21} & a_{22} & a_{23}\\\\a_{31} & a_{32} & a_{33}\\end{matrix}\\right]\\right)$"
      ],
      "text/plain": [
       "(Matrix([\n",
       "[cos(gamma), -sin(gamma), 0],\n",
       "[sin(gamma),  cos(gamma), 0],\n",
       "[         0,           0, 1]]), Matrix([\n",
       "[a11, a12, a13],\n",
       "[a21, a22, a23],\n",
       "[a31, a32, a33]]))"
      ]
     },
     "execution_count": 14,
     "metadata": {},
     "output_type": "execute_result"
    }
   ],
   "source": [
    "A_g = A.subs({a11:sp.cos(gama), a12:sp.cos(sp.pi/2+gama), a13:sp.cos(sp.pi/2), \n",
    "              a21:sp.sin(gama), a22:sp.cos(gama), a23:sp.cos(sp.pi/2), \n",
    "              a31:sp.cos(sp.pi/2), a32:sp.cos(sp.pi/2), a33:sp.cos(0)})\n",
    "A_g, A"
   ]
  },
  {
   "cell_type": "code",
   "execution_count": 16,
   "metadata": {},
   "outputs": [
    {
     "data": {
      "text/latex": [
       "$\\displaystyle \\left( \\left[\\begin{matrix}\\operatorname{cos}\\left(\\gamma\\right) & \\operatorname{sin}\\left(\\gamma\\right) & 0\\\\- \\operatorname{sin}\\left(\\gamma\\right) & \\operatorname{cos}\\left(\\gamma\\right) & 0\\\\0 & 0 & 1\\end{matrix}\\right], \\  \\left[\\begin{matrix}\\operatorname{cos}\\left(\\gamma\\right) & \\operatorname{sin}\\left(\\gamma\\right) & 0\\\\- \\operatorname{sin}\\left(\\gamma\\right) & \\operatorname{cos}\\left(\\gamma\\right) & 0\\\\0 & 0 & 1\\end{matrix}\\right]\\right)$"
      ],
      "text/plain": [
       "(Matrix([\n",
       "[ cos(gamma), sin(gamma), 0],\n",
       "[-sin(gamma), cos(gamma), 0],\n",
       "[          0,          0, 1]]), Matrix([\n",
       "[ cos(gamma), sin(gamma), 0],\n",
       "[-sin(gamma), cos(gamma), 0],\n",
       "[          0,          0, 1]]))"
      ]
     },
     "execution_count": 16,
     "metadata": {},
     "output_type": "execute_result"
    }
   ],
   "source": [
    "sp.simplify(A_g**-1) , A_g.T"
   ]
  },
  {
   "cell_type": "code",
   "execution_count": 26,
   "metadata": {},
   "outputs": [
    {
     "data": {
      "text/latex": [
       "$\\displaystyle \\left( \\left[\\begin{matrix}\\operatorname{cos}\\left(\\beta\\right) & 0 & \\operatorname{sin}\\left(\\beta\\right)\\\\0 & 1 & 0\\\\- \\operatorname{sin}\\left(\\beta\\right) & 0 & \\operatorname{cos}\\left(\\beta\\right)\\end{matrix}\\right]\\right)$"
      ],
      "text/plain": [
       "(Matrix([\n",
       "[ cos(beta), 0, sin(beta)],\n",
       "[         0, 1,         0],\n",
       "[-sin(beta), 0, cos(beta)]]),)"
      ]
     },
     "execution_count": 26,
     "metadata": {},
     "output_type": "execute_result"
    }
   ],
   "source": [
    "A_b = A.subs({a11:sp.cos(beta), a12:sp.cos(sp.pi/2), a13:sp.cos(sp.pi/2-beta), \n",
    "              a21:sp.cos(sp.pi/2), a22:sp.cos(0), a23:sp.cos(sp.pi/2), \n",
    "              a31:sp.cos(sp.pi/2+beta), a32:sp.cos(sp.pi/2), a33:sp.cos(beta)})\n",
    "A_b,"
   ]
  },
  {
   "cell_type": "code",
   "execution_count": 27,
   "metadata": {},
   "outputs": [
    {
     "data": {
      "text/latex": [
       "$\\displaystyle \\left( \\left[\\begin{matrix}1 & 0 & 0\\\\0 & \\operatorname{cos}\\left(\\alpha\\right) & - \\operatorname{sin}\\left(\\alpha\\right)\\\\0 & \\operatorname{sin}\\left(\\alpha\\right) & \\operatorname{cos}\\left(\\alpha\\right)\\end{matrix}\\right]\\right)$"
      ],
      "text/plain": [
       "(Matrix([\n",
       "[1,          0,           0],\n",
       "[0, cos(alpha), -sin(alpha)],\n",
       "[0, sin(alpha),  cos(alpha)]]),)"
      ]
     },
     "execution_count": 27,
     "metadata": {},
     "output_type": "execute_result"
    }
   ],
   "source": [
    "A_a = A.subs({a11:sp.cos(0), a12:sp.cos(sp.pi/2), a13:sp.cos(sp.pi/2), \n",
    "              a21:sp.cos(sp.pi/2), a22:sp.cos(alpha), a23:sp.cos(sp.pi/2+alpha), \n",
    "              a31:sp.cos(sp.pi/2), a32:sp.cos(sp.pi/2-alpha), a33:sp.cos(alpha)})\n",
    "A_a,"
   ]
  },
  {
   "cell_type": "code",
   "execution_count": 34,
   "metadata": {},
   "outputs": [
    {
     "data": {
      "text/latex": [
       "$\\displaystyle \\left[ \\operatorname{cos}\\left(\\gamma\\right), \\  - \\operatorname{sin}\\left(\\gamma\\right), \\  0\\right]$"
      ],
      "text/plain": [
       "[cos(gamma), -sin(gamma), 0]"
      ]
     },
     "execution_count": 34,
     "metadata": {},
     "output_type": "execute_result"
    }
   ],
   "source": [
    "A_g.T.dot([1, 0, 0])"
   ]
  },
  {
   "cell_type": "code",
   "execution_count": 38,
   "metadata": {},
   "outputs": [
    {
     "data": {
      "text/latex": [
       "$\\displaystyle \\left[\\begin{matrix}\\operatorname{cos}\\left(\\beta\\right) \\operatorname{cos}\\left(\\gamma\\right) & \\operatorname{sin}\\left(\\alpha\\right) \\operatorname{sin}\\left(\\beta\\right) \\operatorname{cos}\\left(\\gamma\\right) - \\operatorname{sin}\\left(\\gamma\\right) \\operatorname{cos}\\left(\\alpha\\right) & \\operatorname{sin}\\left(\\alpha\\right) \\operatorname{sin}\\left(\\gamma\\right) + \\operatorname{sin}\\left(\\beta\\right) \\operatorname{cos}\\left(\\alpha\\right) \\operatorname{cos}\\left(\\gamma\\right)\\\\\\operatorname{sin}\\left(\\gamma\\right) \\operatorname{cos}\\left(\\beta\\right) & \\operatorname{sin}\\left(\\alpha\\right) \\operatorname{sin}\\left(\\beta\\right) \\operatorname{sin}\\left(\\gamma\\right) + \\operatorname{cos}\\left(\\alpha\\right) \\operatorname{cos}\\left(\\gamma\\right) & - \\operatorname{sin}\\left(\\alpha\\right) \\operatorname{cos}\\left(\\gamma\\right) + \\operatorname{sin}\\left(\\beta\\right) \\operatorname{sin}\\left(\\gamma\\right) \\operatorname{cos}\\left(\\alpha\\right)\\\\- \\operatorname{sin}\\left(\\beta\\right) & \\operatorname{sin}\\left(\\alpha\\right) \\operatorname{cos}\\left(\\beta\\right) & \\operatorname{cos}\\left(\\alpha\\right) \\operatorname{cos}\\left(\\beta\\right)\\end{matrix}\\right]$"
      ],
      "text/plain": [
       "Matrix([\n",
       "[cos(beta)*cos(gamma), sin(alpha)*sin(beta)*cos(gamma) - sin(gamma)*cos(alpha),  sin(alpha)*sin(gamma) + sin(beta)*cos(alpha)*cos(gamma)],\n",
       "[sin(gamma)*cos(beta), sin(alpha)*sin(beta)*sin(gamma) + cos(alpha)*cos(gamma), -sin(alpha)*cos(gamma) + sin(beta)*sin(gamma)*cos(alpha)],\n",
       "[          -sin(beta),                                    sin(alpha)*cos(beta),                                     cos(alpha)*cos(beta)]])"
      ]
     },
     "execution_count": 38,
     "metadata": {},
     "output_type": "execute_result"
    }
   ],
   "source": [
    "A_g*A_b*A_a"
   ]
  },
  {
   "cell_type": "code",
   "execution_count": null,
   "metadata": {},
   "outputs": [],
   "source": [
    "n1 = sp.Matrix([sp.cos(gama), sp.sin(gama), 0])\n",
    "b1 = sp.Matrix([-sp.sin(gama), sp.cos(gama), 0])\n",
    "t1 = sp.Matrix([0, 0, 1])\n",
    "n1.dot(b1)\n",
    "b1.norm()"
   ]
  },
  {
   "cell_type": "code",
   "execution_count": null,
   "metadata": {},
   "outputs": [],
   "source": [
    "theta1, theta2, l1, l2, theta, alpha, a, d = dynamicsymbols('theta1 theta2 l1 l2 theta alpha a d')\n",
    "theta1, theta2, l1, l2, theta, alpha, a, d \n",
    "rot = sp.Matrix([[sp.cos(theta), -sp.sin(theta)*sp.cos(alpha), sp.sin(theta)*sp.sin(alpha)],\n",
    "                 [sp.sin(theta), sp.cos(theta)*sp.cos(alpha), -sp.cos(theta)*sp.sin(alpha)],\n",
    "                 [0, sp.sin(alpha), sp.cos(alpha)]])\n",
    "\n",
    "trans = sp.Matrix([a*sp.cos(theta),a*sp.sin(theta),d])\n",
    "\n",
    "last_row = sp.Matrix([[0, 0, 0, 1]])\n",
    "\n",
    "m = sp.Matrix.vstack(sp.Matrix.hstack(rot, trans), last_row)\n",
    "m"
   ]
  }
 ],
 "metadata": {
  "kernelspec": {
   "display_name": "Python 3",
   "language": "python",
   "name": "python3"
  },
  "language_info": {
   "codemirror_mode": {
    "name": "ipython",
    "version": 3
   },
   "file_extension": ".py",
   "mimetype": "text/x-python",
   "name": "python",
   "nbconvert_exporter": "python",
   "pygments_lexer": "ipython3",
   "version": "3.8.1"
  }
 },
 "nbformat": 4,
 "nbformat_minor": 4
}
